{
 "cells": [
  {
   "cell_type": "code",
   "execution_count": 1,
   "id": "d891d758-b220-4b86-a0eb-a7db53dfb254",
   "metadata": {},
   "outputs": [],
   "source": [
    "import cobra as cb\n",
    "import tempfile\n",
    "from pathlib import Path"
   ]
  },
  {
   "cell_type": "code",
   "execution_count": null,
   "id": "3fe72823-0cc8-4256-9a0f-3eee9948da12",
   "metadata": {},
   "outputs": [],
   "source": [
    "!wget 'http://bigg.ucsd.edu/static/models/iML1515.xml'"
   ]
  },
  {
   "cell_type": "code",
   "execution_count": 2,
   "id": "ba4cf4d7-d47a-483b-b98a-d0cfe3e5ba73",
   "metadata": {},
   "outputs": [],
   "source": [
    "data_path = Path.cwd().resolve()"
   ]
  },
  {
   "cell_type": "code",
   "execution_count": 3,
   "id": "339cfb1d-7dff-4318-a0a1-b6b4f5a3eef1",
   "metadata": {
    "tags": []
   },
   "outputs": [],
   "source": [
    "chassis = cb.io.read_sbml_model(data_path.joinpath('iML1515.xml'))"
   ]
  },
  {
   "cell_type": "markdown",
   "id": "7e5bd164-26ff-4f2d-bd50-82c29b56ce5a",
   "metadata": {},
   "source": [
    "## Step 1\n",
    "Generate the metabolites the new pathway will use:"
   ]
  },
  {
   "cell_type": "code",
   "execution_count": 4,
   "id": "31fb9c51-3af8-4f0a-8268-d19846e82f89",
   "metadata": {},
   "outputs": [],
   "source": [
    "pet_e = cb.Metabolite('pet_e', name='polyethylene terephthalate', compartment='e')\n",
    "pet_minus_e = cb.Metabolite('petm_e', name='PET(n-1)', compartment='e') # pseudo metabolite for balancing reactions\n",
    "mhet_e = cb.Metabolite('mhet_e', name='2-Hydroxyethyl terephthalic acid', compartment='e')\n",
    "tpa_e = cb.Metabolite('tpa_e', name='Terephthalic Acid', compartment='e',\n",
    "                      formula='C8H6O4')\n",
    "glycol_e = cb.Metabolite('glycol_e', name='Ethylene Glycol, 1,2-ethanediol', compartment='e',\n",
    "                         formula='C2H6O2')\n",
    "glycol_c = cb.Metabolite('glycol_c', name='Ethylene Glycol, 1,2-ethanediol', compartment='c',\n",
    "                         formula='C2H6O2')\n"
   ]
  },
  {
   "cell_type": "markdown",
   "id": "d99776ac-61dc-4341-949c-5d3ba17f3e74",
   "metadata": {},
   "source": [
    "## Step 2\n",
    "Create the reactions the pathway will use:"
   ]
  },
  {
   "cell_type": "code",
   "execution_count": 5,
   "id": "3cf53032-b294-4715-a467-adf8dbf2bcf8",
   "metadata": {},
   "outputs": [],
   "source": [
    "# PET depolymerization\n",
    "petase = cb.Reaction('petase', name='PET Hydrolase', subsystem='PET metabolism',\n",
    "                     lower_bound= 10.0, upper_bound=1000.0)\n",
    "petase.add_metabolites({pet_e:-1, chassis.metabolites.get_by_id('h2o_e'):-1,\n",
    "                        pet_minus_e:1, mhet_e:1})\n",
    "\n",
    "# Breakdown of PET monomer (MHET) into TPA and ethylene glycol\n",
    "mhetase = cb.Reaction('mhetase', name='MHET Acylhydrolase', subsystem='PET metabolism',\n",
    "                      lower_bound=100.0, upper_bound=1000.0)\n",
    "mhetase.add_metabolites({mhet_e:-1, chassis.metabolites.get_by_id('h2o_e'):-1,\n",
    "                         tpa_e:1, glycol_e:1})\n",
    "\n",
    "# Ethylene glycol uptake into cell\n",
    "gly_diff = cb.Reaction('gly_diff', name='Ethylene Glycol transmembrane diffusion',\n",
    "                        lower_bound=-1000.0, upper_bound=1000.0)\n",
    "gly_diff.add_metabolites({glycol_e:-1, glycol_c:1})\n",
    "\n",
    "# Ethylene glycol oxidization to glycolaldehyde--contact with main metabolic network\n",
    "gly_oxidase = cb.Reaction('gly_oxidase', name='Ethylene Glycol NAD+ dependent oxidoreductase',\n",
    "                          lower_bound=-100.0, upper_bound=1000.0)\n",
    "gly_oxidase.add_metabolites({glycol_c:-1, chassis.metabolites.get_by_id('gcald_c'):1})"
   ]
  },
  {
   "cell_type": "markdown",
   "id": "0cd4b813-5052-4448-aa10-004b6ffc152d",
   "metadata": {},
   "source": [
    "## Step 3\n",
    "Add the reactions to the main model:"
   ]
  },
  {
   "cell_type": "code",
   "execution_count": 6,
   "id": "c29dd66c-33b7-41ff-a337-2781243f6deb",
   "metadata": {},
   "outputs": [],
   "source": [
    "reactions = [petase, mhetase, gly_diff, gly_oxidase]\n",
    "chassis.add_reactions(reactions)"
   ]
  },
  {
   "cell_type": "markdown",
   "id": "e24450be-44d8-472e-83d2-2e104273f7e8",
   "metadata": {},
   "source": [
    "## Step 4\n",
    "Add boundary reactions, or unbalanced pseudoreactions which add or remove metabolites from the model\n",
    "\n",
    "PET needs to be input to the model, the PET minus pseudometabolite needs to be removed, and TPA needs to be removed,\n",
    "simulating harvesting for industrial use:"
   ]
  },
  {
   "cell_type": "code",
   "execution_count": 7,
   "id": "185f4cfa-8688-48f8-b0e9-af1a5331ea14",
   "metadata": {},
   "outputs": [
    {
     "data": {
      "text/html": [
       "\n",
       "        <table>\n",
       "            <tr>\n",
       "                <td><strong>Reaction identifier</strong></td><td>EX_pet_e</td>\n",
       "            </tr><tr>\n",
       "                <td><strong>Name</strong></td><td>polyethylene terephthalate exchange</td>\n",
       "            </tr><tr>\n",
       "                <td><strong>Memory address</strong></td>\n",
       "                <td>0x7f1b96d33850</td>\n",
       "            </tr><tr>\n",
       "                <td><strong>Stoichiometry</strong></td>\n",
       "                <td>\n",
       "                    <p style='text-align:right'>pet_e <=></p>\n",
       "                    <p style='text-align:right'>polyethylene terephthalate <=></p>\n",
       "                </td>\n",
       "            </tr><tr>\n",
       "                <td><strong>GPR</strong></td><td></td>\n",
       "            </tr><tr>\n",
       "                <td><strong>Lower bound</strong></td><td>-1000.0</td>\n",
       "            </tr><tr>\n",
       "                <td><strong>Upper bound</strong></td><td>1000.0</td>\n",
       "            </tr>\n",
       "        </table>\n",
       "        "
      ],
      "text/plain": [
       "<Reaction EX_pet_e at 0x7f1b96d33850>"
      ]
     },
     "execution_count": 7,
     "metadata": {},
     "output_type": "execute_result"
    }
   ],
   "source": [
    "chassis.add_boundary(pet_e, type='exchange')"
   ]
  },
  {
   "cell_type": "code",
   "execution_count": 8,
   "id": "e982e2c5-f40a-42b8-a54c-96e46212e08b",
   "metadata": {},
   "outputs": [
    {
     "data": {
      "text/html": [
       "\n",
       "        <table>\n",
       "            <tr>\n",
       "                <td><strong>Reaction identifier</strong></td><td>EX_petm_e</td>\n",
       "            </tr><tr>\n",
       "                <td><strong>Name</strong></td><td>PET(n-1) exchange</td>\n",
       "            </tr><tr>\n",
       "                <td><strong>Memory address</strong></td>\n",
       "                <td>0x7f1b96d32d10</td>\n",
       "            </tr><tr>\n",
       "                <td><strong>Stoichiometry</strong></td>\n",
       "                <td>\n",
       "                    <p style='text-align:right'>petm_e <=></p>\n",
       "                    <p style='text-align:right'>PET(n-1) <=></p>\n",
       "                </td>\n",
       "            </tr><tr>\n",
       "                <td><strong>GPR</strong></td><td></td>\n",
       "            </tr><tr>\n",
       "                <td><strong>Lower bound</strong></td><td>-1000.0</td>\n",
       "            </tr><tr>\n",
       "                <td><strong>Upper bound</strong></td><td>1000.0</td>\n",
       "            </tr>\n",
       "        </table>\n",
       "        "
      ],
      "text/plain": [
       "<Reaction EX_petm_e at 0x7f1b96d32d10>"
      ]
     },
     "execution_count": 8,
     "metadata": {},
     "output_type": "execute_result"
    }
   ],
   "source": [
    "chassis.add_boundary(pet_minus_e, type='exchange')"
   ]
  },
  {
   "cell_type": "code",
   "execution_count": 9,
   "id": "33941f04-94fe-4c99-89f4-c19a926946b7",
   "metadata": {},
   "outputs": [
    {
     "data": {
      "text/html": [
       "\n",
       "        <table>\n",
       "            <tr>\n",
       "                <td><strong>Reaction identifier</strong></td><td>EX_tpa_e</td>\n",
       "            </tr><tr>\n",
       "                <td><strong>Name</strong></td><td>Terephthalic Acid exchange</td>\n",
       "            </tr><tr>\n",
       "                <td><strong>Memory address</strong></td>\n",
       "                <td>0x7f1b96d33dc0</td>\n",
       "            </tr><tr>\n",
       "                <td><strong>Stoichiometry</strong></td>\n",
       "                <td>\n",
       "                    <p style='text-align:right'>tpa_e <=></p>\n",
       "                    <p style='text-align:right'>Terephthalic Acid <=></p>\n",
       "                </td>\n",
       "            </tr><tr>\n",
       "                <td><strong>GPR</strong></td><td></td>\n",
       "            </tr><tr>\n",
       "                <td><strong>Lower bound</strong></td><td>-1000.0</td>\n",
       "            </tr><tr>\n",
       "                <td><strong>Upper bound</strong></td><td>1000.0</td>\n",
       "            </tr>\n",
       "        </table>\n",
       "        "
      ],
      "text/plain": [
       "<Reaction EX_tpa_e at 0x7f1b96d33dc0>"
      ]
     },
     "execution_count": 9,
     "metadata": {},
     "output_type": "execute_result"
    }
   ],
   "source": [
    "chassis.add_boundary(tpa_e, type='exchange')"
   ]
  },
  {
   "cell_type": "markdown",
   "id": "cc9ab6a0-2833-4323-9559-47e67494ad7a",
   "metadata": {},
   "source": [
    "## Step 5\n",
    "Calculate optimal flux balance solution:"
   ]
  },
  {
   "cell_type": "code",
   "execution_count": 10,
   "id": "16c7a6d2-36c8-4015-a100-30e37e063d30",
   "metadata": {},
   "outputs": [],
   "source": [
    "chassis_solution = chassis.optimize()"
   ]
  },
  {
   "cell_type": "code",
   "execution_count": 11,
   "id": "8f0fcda3-9600-459b-be49-502e13e5a29c",
   "metadata": {},
   "outputs": [
    {
     "data": {
      "text/html": [
       "<strong><em>Optimal</em> solution with objective value 14.470</strong><br><div>\n",
       "<style scoped>\n",
       "    .dataframe tbody tr th:only-of-type {\n",
       "        vertical-align: middle;\n",
       "    }\n",
       "\n",
       "    .dataframe tbody tr th {\n",
       "        vertical-align: top;\n",
       "    }\n",
       "\n",
       "    .dataframe thead th {\n",
       "        text-align: right;\n",
       "    }\n",
       "</style>\n",
       "<table border=\"1\" class=\"dataframe\">\n",
       "  <thead>\n",
       "    <tr style=\"text-align: right;\">\n",
       "      <th></th>\n",
       "      <th>fluxes</th>\n",
       "      <th>reduced_costs</th>\n",
       "    </tr>\n",
       "  </thead>\n",
       "  <tbody>\n",
       "    <tr>\n",
       "      <th>CYTDK2</th>\n",
       "      <td>0.000000</td>\n",
       "      <td>8.609565e-18</td>\n",
       "    </tr>\n",
       "    <tr>\n",
       "      <th>XPPT</th>\n",
       "      <td>0.000000</td>\n",
       "      <td>1.387779e-17</td>\n",
       "    </tr>\n",
       "    <tr>\n",
       "      <th>HXPRT</th>\n",
       "      <td>0.000000</td>\n",
       "      <td>-3.496001e-02</td>\n",
       "    </tr>\n",
       "    <tr>\n",
       "      <th>NDPK5</th>\n",
       "      <td>0.000000</td>\n",
       "      <td>2.409850e-17</td>\n",
       "    </tr>\n",
       "    <tr>\n",
       "      <th>SHK3Dr</th>\n",
       "      <td>5.514906</td>\n",
       "      <td>1.535811e-17</td>\n",
       "    </tr>\n",
       "    <tr>\n",
       "      <th>...</th>\n",
       "      <td>...</td>\n",
       "      <td>...</td>\n",
       "    </tr>\n",
       "    <tr>\n",
       "      <th>gly_diff</th>\n",
       "      <td>1000.000000</td>\n",
       "      <td>0.000000e+00</td>\n",
       "    </tr>\n",
       "    <tr>\n",
       "      <th>gly_oxidase</th>\n",
       "      <td>1000.000000</td>\n",
       "      <td>-8.673617e-19</td>\n",
       "    </tr>\n",
       "    <tr>\n",
       "      <th>EX_pet_e</th>\n",
       "      <td>-1000.000000</td>\n",
       "      <td>0.000000e+00</td>\n",
       "    </tr>\n",
       "    <tr>\n",
       "      <th>EX_petm_e</th>\n",
       "      <td>1000.000000</td>\n",
       "      <td>0.000000e+00</td>\n",
       "    </tr>\n",
       "    <tr>\n",
       "      <th>EX_tpa_e</th>\n",
       "      <td>1000.000000</td>\n",
       "      <td>0.000000e+00</td>\n",
       "    </tr>\n",
       "  </tbody>\n",
       "</table>\n",
       "<p>2719 rows × 2 columns</p>\n",
       "</div>"
      ],
      "text/plain": [
       "<Solution 14.470 at 0x7f1b96d329b0>"
      ]
     },
     "execution_count": 11,
     "metadata": {},
     "output_type": "execute_result"
    }
   ],
   "source": [
    "chassis_solution"
   ]
  },
  {
   "cell_type": "code",
   "execution_count": 12,
   "id": "4f8daa35-b1c5-4de7-9251-4ea6977e4c27",
   "metadata": {},
   "outputs": [
    {
     "name": "stdout",
     "output_type": "stream",
     "text": [
      "PET Hydrolase flux: 1000.0000000000001\n",
      "MHET Acylhydrolase flux: 1000.0000000000001\n",
      "Ethylene Glycol transmembrane diffusion flux: 1000.0\n",
      "Ethylene Glycol NAD+ dependent oxidoreductase flux: 1000.0\n"
     ]
    }
   ],
   "source": [
    "for reaction in reactions:\n",
    "    print(f'{reaction.name} flux: {reaction.flux}')"
   ]
  },
  {
   "cell_type": "markdown",
   "id": "bb5fa635-4874-4b92-b021-1043a2f0e4c0",
   "metadata": {},
   "source": [
    "## Results\n",
    "\n",
    "We can see here that the PET degradation pathway is active to the maximum degree possible during flux balance analysis. This indicates that, at least from a chemical point of view, this metabolism is advantageous to the organism and is likely to be retained. This is expected, given that it not only acts as a carbon source but also reduces NAD+ to NADH, resulting in an energy gain for the cell."
   ]
  },
  {
   "cell_type": "code",
   "execution_count": 13,
   "id": "226db663-e6ed-4dcd-bd70-1cc3cd16412a",
   "metadata": {},
   "outputs": [],
   "source": [
    "cb.io.write_sbml_model(chassis, str(data_path.joinpath('iML1515_aug.xml')))"
   ]
  },
  {
   "cell_type": "code",
   "execution_count": 14,
   "id": "b121dc25-28cc-476b-877d-8a43b23d4c9a",
   "metadata": {},
   "outputs": [],
   "source": [
    "cb.io.save_json_model(chassis, str(data_path.joinpath('iML1515_aug.json')))"
   ]
  },
  {
   "cell_type": "code",
   "execution_count": 15,
   "id": "ae792042-9aa8-4adc-89ac-dea1516d1d6e",
   "metadata": {},
   "outputs": [
    {
     "data": {
      "text/html": [
       "<h3>Objective</h3><p>1.0 BIOMASS_Ec_iML1515_core_75p37M = 14.470299256078489</p><h4>Uptake</h4><table border=\"1\" class=\"dataframe\">\n",
       "  <thead>\n",
       "    <tr style=\"text-align: right;\">\n",
       "      <th>Metabolite</th>\n",
       "      <th>Reaction</th>\n",
       "      <th>Flux</th>\n",
       "      <th>C-Number</th>\n",
       "      <th>C-Flux</th>\n",
       "    </tr>\n",
       "  </thead>\n",
       "  <tbody>\n",
       "    <tr>\n",
       "      <td>ca2_e</td>\n",
       "      <td>EX_ca2_e</td>\n",
       "      <td>0.07532</td>\n",
       "      <td>0</td>\n",
       "      <td>0.00%</td>\n",
       "    </tr>\n",
       "    <tr>\n",
       "      <td>cl_e</td>\n",
       "      <td>EX_cl_e</td>\n",
       "      <td>0.07532</td>\n",
       "      <td>0</td>\n",
       "      <td>0.00%</td>\n",
       "    </tr>\n",
       "    <tr>\n",
       "      <td>cobalt2_e</td>\n",
       "      <td>EX_cobalt2_e</td>\n",
       "      <td>0.0003618</td>\n",
       "      <td>0</td>\n",
       "      <td>0.00%</td>\n",
       "    </tr>\n",
       "    <tr>\n",
       "      <td>cu2_e</td>\n",
       "      <td>EX_cu2_e</td>\n",
       "      <td>0.01026</td>\n",
       "      <td>0</td>\n",
       "      <td>0.00%</td>\n",
       "    </tr>\n",
       "    <tr>\n",
       "      <td>fe2_e</td>\n",
       "      <td>EX_fe2_e</td>\n",
       "      <td>0.2324</td>\n",
       "      <td>0</td>\n",
       "      <td>0.00%</td>\n",
       "    </tr>\n",
       "    <tr>\n",
       "      <td>glc__D_e</td>\n",
       "      <td>EX_glc__D_e</td>\n",
       "      <td>10</td>\n",
       "      <td>6</td>\n",
       "      <td>100.00%</td>\n",
       "    </tr>\n",
       "    <tr>\n",
       "      <td>h2o_e</td>\n",
       "      <td>EX_h2o_e</td>\n",
       "      <td>1000</td>\n",
       "      <td>0</td>\n",
       "      <td>0.00%</td>\n",
       "    </tr>\n",
       "    <tr>\n",
       "      <td>k_e</td>\n",
       "      <td>EX_k_e</td>\n",
       "      <td>2.825</td>\n",
       "      <td>0</td>\n",
       "      <td>0.00%</td>\n",
       "    </tr>\n",
       "    <tr>\n",
       "      <td>mg2_e</td>\n",
       "      <td>EX_mg2_e</td>\n",
       "      <td>0.1255</td>\n",
       "      <td>0</td>\n",
       "      <td>0.00%</td>\n",
       "    </tr>\n",
       "    <tr>\n",
       "      <td>mn2_e</td>\n",
       "      <td>EX_mn2_e</td>\n",
       "      <td>0.009999</td>\n",
       "      <td>0</td>\n",
       "      <td>0.00%</td>\n",
       "    </tr>\n",
       "    <tr>\n",
       "      <td>mobd_e</td>\n",
       "      <td>EX_mobd_e</td>\n",
       "      <td>0.0001013</td>\n",
       "      <td>0</td>\n",
       "      <td>0.00%</td>\n",
       "    </tr>\n",
       "    <tr>\n",
       "      <td>nh4_e</td>\n",
       "      <td>EX_nh4_e</td>\n",
       "      <td>156.3</td>\n",
       "      <td>0</td>\n",
       "      <td>0.00%</td>\n",
       "    </tr>\n",
       "    <tr>\n",
       "      <td>ni2_e</td>\n",
       "      <td>EX_ni2_e</td>\n",
       "      <td>0.004674</td>\n",
       "      <td>0</td>\n",
       "      <td>0.00%</td>\n",
       "    </tr>\n",
       "    <tr>\n",
       "      <td>o2_e</td>\n",
       "      <td>EX_o2_e</td>\n",
       "      <td>857.1</td>\n",
       "      <td>0</td>\n",
       "      <td>0.00%</td>\n",
       "    </tr>\n",
       "    <tr>\n",
       "      <td>pet_e</td>\n",
       "      <td>EX_pet_e</td>\n",
       "      <td>1000</td>\n",
       "      <td>0</td>\n",
       "      <td>0.00%</td>\n",
       "    </tr>\n",
       "    <tr>\n",
       "      <td>pi_e</td>\n",
       "      <td>EX_pi_e</td>\n",
       "      <td>13.96</td>\n",
       "      <td>0</td>\n",
       "      <td>0.00%</td>\n",
       "    </tr>\n",
       "    <tr>\n",
       "      <td>so4_e</td>\n",
       "      <td>EX_so4_e</td>\n",
       "      <td>3.644</td>\n",
       "      <td>0</td>\n",
       "      <td>0.00%</td>\n",
       "    </tr>\n",
       "    <tr>\n",
       "      <td>zn2_e</td>\n",
       "      <td>EX_zn2_e</td>\n",
       "      <td>0.004934</td>\n",
       "      <td>0</td>\n",
       "      <td>0.00%</td>\n",
       "    </tr>\n",
       "  </tbody>\n",
       "</table><h4>Secretion</h4><table border=\"1\" class=\"dataframe\">\n",
       "  <thead>\n",
       "    <tr style=\"text-align: right;\">\n",
       "      <th>Metabolite</th>\n",
       "      <th>Reaction</th>\n",
       "      <th>Flux</th>\n",
       "      <th>C-Number</th>\n",
       "      <th>C-Flux</th>\n",
       "    </tr>\n",
       "  </thead>\n",
       "  <tbody>\n",
       "    <tr>\n",
       "      <td>4crsol_c</td>\n",
       "      <td>DM_4crsol_c</td>\n",
       "      <td>-0.003227</td>\n",
       "      <td>7</td>\n",
       "      <td>0.00%</td>\n",
       "    </tr>\n",
       "    <tr>\n",
       "      <td>5drib_c</td>\n",
       "      <td>DM_5drib_c</td>\n",
       "      <td>-0.003256</td>\n",
       "      <td>5</td>\n",
       "      <td>0.00%</td>\n",
       "    </tr>\n",
       "    <tr>\n",
       "      <td>amob_c</td>\n",
       "      <td>DM_amob_c</td>\n",
       "      <td>-2.894E-05</td>\n",
       "      <td>15</td>\n",
       "      <td>0.00%</td>\n",
       "    </tr>\n",
       "    <tr>\n",
       "      <td>ac_e</td>\n",
       "      <td>EX_ac_e</td>\n",
       "      <td>-154</td>\n",
       "      <td>2</td>\n",
       "      <td>3.25%</td>\n",
       "    </tr>\n",
       "    <tr>\n",
       "      <td>co2_e</td>\n",
       "      <td>EX_co2_e</td>\n",
       "      <td>-617.9</td>\n",
       "      <td>1</td>\n",
       "      <td>6.53%</td>\n",
       "    </tr>\n",
       "    <tr>\n",
       "      <td>for_e</td>\n",
       "      <td>EX_for_e</td>\n",
       "      <td>-540.2</td>\n",
       "      <td>1</td>\n",
       "      <td>5.71%</td>\n",
       "    </tr>\n",
       "    <tr>\n",
       "      <td>h_e</td>\n",
       "      <td>EX_h_e</td>\n",
       "      <td>-827.2</td>\n",
       "      <td>0</td>\n",
       "      <td>0.00%</td>\n",
       "    </tr>\n",
       "    <tr>\n",
       "      <td>meoh_e</td>\n",
       "      <td>EX_meoh_e</td>\n",
       "      <td>-2.894E-05</td>\n",
       "      <td>1</td>\n",
       "      <td>0.00%</td>\n",
       "    </tr>\n",
       "    <tr>\n",
       "      <td>petm_e</td>\n",
       "      <td>EX_petm_e</td>\n",
       "      <td>-1000</td>\n",
       "      <td>0</td>\n",
       "      <td>0.00%</td>\n",
       "    </tr>\n",
       "    <tr>\n",
       "      <td>tpa_e</td>\n",
       "      <td>EX_tpa_e</td>\n",
       "      <td>-1000</td>\n",
       "      <td>8</td>\n",
       "      <td>84.51%</td>\n",
       "    </tr>\n",
       "  </tbody>\n",
       "</table>"
      ],
      "text/plain": [
       "<cobra.summary.model_summary.ModelSummary at 0x7f1b98876a40>"
      ]
     },
     "execution_count": 15,
     "metadata": {},
     "output_type": "execute_result"
    }
   ],
   "source": [
    "chassis.summary()"
   ]
  },
  {
   "cell_type": "markdown",
   "id": "2b401468-a226-4b5b-aa6d-9a0725a40f46",
   "metadata": {},
   "source": [
    "## Results\n",
    "In this example, the model has been instructed to maximize microbial biomass (simulating\n",
    "the bacteria's primary goal to grow and reproduce). PET metabolism was not included in the\n",
    "objective function. Despite this, both degradation of PET and secretion of TPA occur at their maximum\n",
    "possible rates. This suggests that this pathway would be highly active *in vivo*.\n",
    "\n",
    "Recall that for PET and the PET(n-1) pseudovariable we left the chemical formula blank.\n",
    "This is why cobra does not report carbon fluxes for these metabolites."
   ]
  }
 ],
 "metadata": {
  "kernelspec": {
   "display_name": "Python 3 (ipykernel)",
   "language": "python",
   "name": "python3"
  },
  "language_info": {
   "codemirror_mode": {
    "name": "ipython",
    "version": 3
   },
   "file_extension": ".py",
   "mimetype": "text/x-python",
   "name": "python",
   "nbconvert_exporter": "python",
   "pygments_lexer": "ipython3",
   "version": "3.10.12"
  }
 },
 "nbformat": 4,
 "nbformat_minor": 5
}
